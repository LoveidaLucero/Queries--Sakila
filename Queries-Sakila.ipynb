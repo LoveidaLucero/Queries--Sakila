{
 "cells": [
  {
   "cell_type": "markdown",
   "id": "c5030338-53f4-4381-9741-5f681750a0ae",
   "metadata": {},
   "source": [
    "Sakila Database ERD:"
   ]
  },
  {
   "cell_type": "markdown",
   "id": "77415a0c-9654-4145-b1f6-91ed54c817ed",
   "metadata": {},
   "source": [
    "![png](https://assets.codingdojo.com/boomyeah/company_209/chapter_3569/handouts/chapter3569_5431_sakila-db-model.png)"
   ]
  },
  {
   "cell_type": "code",
   "execution_count": null,
   "id": "f4161bab-894d-4c97-ab71-077c7cacae7b",
   "metadata": {},
   "outputs": [],
   "source": []
  }
 ],
 "metadata": {
  "kernelspec": {
   "display_name": "Python (dojo-env)",
   "language": "python",
   "name": "dojo-env"
  },
  "language_info": {
   "codemirror_mode": {
    "name": "ipython",
    "version": 3
   },
   "file_extension": ".py",
   "mimetype": "text/x-python",
   "name": "python",
   "nbconvert_exporter": "python",
   "pygments_lexer": "ipython3",
   "version": "3.10.10"
  },
  "widgets": {
   "application/vnd.jupyter.widget-state+json": {
    "state": {},
    "version_major": 2,
    "version_minor": 0
   }
  }
 },
 "nbformat": 4,
 "nbformat_minor": 5
}
